{
 "cells": [
  {
   "cell_type": "markdown",
   "metadata": {
    "colab_type": "text",
    "id": "l0ZzOlyxB-kf"
   },
   "source": [
    "<h1>Python: without numpy or sklearn </h1>"
   ]
  },
  {
   "cell_type": "markdown",
   "metadata": {
    "colab_type": "text",
    "id": "C0xO8JV9B-ki"
   },
   "source": [
    "<h3> Q1: Given two matrices please print the product of those two matrices </h3>\n",
    "<pre>\n",
    "\n",
    "Ex 1: A   = [[1 3 4]\n",
    "             [2 5 7]\n",
    "             [5 9 6]]\n",
    "      B   = [[1 0 0]\n",
    "             [0 1 0]\n",
    "             [0 0 1]]\n",
    "      A*B = [[1 3 4]\n",
    "             [2 5 7]\n",
    "             [5 9 6]]\n",
    "\n",
    "     \n",
    "Ex 2: A   = [[1 2]\n",
    "             [3 4]]\n",
    "      B   = [[1 2 3 4 5]\n",
    "             [5 6 7 8 9]]\n",
    "      A*B = [[11 14 17 20 23]\n",
    "             [23 30 37 44 51]]\n",
    "             \n",
    "Ex 3: A   = [[1 2]\n",
    "             [3 4]]\n",
    "      B   = [[1 4]\n",
    "             [5 6]\n",
    "             [7 8]\n",
    "             [9 6]]\n",
    "      A*B =Not possible\n",
    "</pre>"
   ]
  },
  {
   "cell_type": "code",
   "execution_count": 19,
   "metadata": {
    "colab": {},
    "colab_type": "code",
    "id": "rnssAfpgB-kj",
    "scrolled": true
   },
   "outputs": [
    {
     "name": "stdout",
     "output_type": "stream",
     "text": [
      "Enter the number of rows of first matrix : 3\n",
      "Enter the number of columns of first matrix : 3\n",
      "Enter the number of rows of second matrix : 3\n",
      "Enter the number of columns of second matrix : 3\n",
      "Enter the entries rowwise:\n",
      "1\n",
      "3\n",
      "4\n",
      "2\n",
      "5\n",
      "7\n",
      "5\n",
      "9\n",
      "6\n",
      "[[1, 3, 4], [2, 5, 7], [5, 9, 6]]\n",
      "Enter the entries rowwise:\n",
      "1\n",
      "0\n",
      "0\n",
      "0\n",
      "1\n",
      "0\n",
      "0\n",
      "0\n",
      "1\n",
      "The Matrix multiplication of [[1, 3, 4], [2, 5, 7], [5, 9, 6]] and [[1, 0, 0], [0, 1, 0], [0, 0, 1]] is A*B = [[1, 3, 4], [2, 5, 7], [5, 9, 6]] \n"
     ]
    }
   ],
   "source": [
    "# write your python code here\n",
    "# you can take the above example as sample input for your program to test\n",
    "# it should work for any general input try not to hard code for only given input examples\n",
    "# you can take matrix input from user or you can directly define the matrix and give input to the function\n",
    "# reference for creating input - https://stackoverflow.com/questions/12293208/how-to-create-a-list-of-lists\n",
    "\n",
    "# you can free to change all these codes/structure\n",
    "# here A and B are list of lists\n",
    "                                                                  \n",
    "def matrix(rows, cols):\n",
    "    # Initialize matrix\n",
    "    matrix = []\n",
    "    print(\"Enter the entries rowwise:\")\n",
    "    # For user input\n",
    "    for i in range(rows):          # for loop for row entries\n",
    "        a =[]\n",
    "        for j in range(cols):      # for loop for column entries\n",
    "             a.append(int(input()))\n",
    "        matrix.append(a)\n",
    "    return matrix\n",
    "\n",
    "\n",
    "def matrix_mul(A, B):\n",
    "    # write your code\n",
    "    if len(A[0])==len(B):\n",
    "        rows, cols = len(A),len(B[0])\n",
    "    \n",
    "        mul = [ ([0]*cols) for i in range(rows)]\n",
    "        for i in range(len(A)):\n",
    "            for j in range(len(B[0])):\n",
    "                for k in range(len(B)):\n",
    "                    mul[i][j]+=A[i][k]*B[k][j]\n",
    "        res = print(f\"The Matrix multiplication of {A} and {B} is A*B = {mul} \")\n",
    "\n",
    "        return res\n",
    "\n",
    "    \n",
    "row_A = int(input(\"Enter the number of rows of first matrix : \")) \n",
    "col_A = int(input(\"Enter the number of columns of first matrix : \")) \n",
    "row_B = int(input(\"Enter the number of rows of second matrix : \")) \n",
    "col_B = int(input(\"Enter the number of columns of second matrix : \")) \n",
    "\n",
    "if col_A==row_B:\n",
    "    A = matrix(rows = row_A, cols = col_A)\n",
    "    print(A)\n",
    "    B = matrix(rows = row_B, cols = col_B)\n",
    "    matrix_mul(A, B)\n",
    "else:\n",
    "    print(f\"The Matrix multiplication of given dimension is not possible \" )\n",
    "    \n"
   ]
  },
  {
   "cell_type": "markdown",
   "metadata": {
    "colab_type": "text",
    "id": "at4VwLggB-kn"
   },
   "source": [
    "<h3> Q2: Proportional Sampling - Select a number randomly with probability proportional to its magnitude from the given array of n elements</h3>\n",
    "\n",
    "Consider an experiment, selecting an element from the list A randomly with probability proportional to its magnitude.\n",
    "assume we are doing the same experiment for 100 times with replacement, in each experiment you will print a number that is selected randomly from A.\n",
    "\n",
    "<pre>\n",
    "Ex 1: A = [0 5 27 6 13 28 100 45 10 79]\n",
    "let f(x) denote the number of times x getting selected in 100 experiments.\n",
    "f(100) > f(79) > f(45) > f(28) > f(27) > f(13) > f(10) > f(6) > f(5) > f(0)\n",
    "</pre>"
   ]
  },
  {
   "cell_type": "code",
   "execution_count": 5,
   "metadata": {
    "colab": {},
    "colab_type": "code",
    "id": "B6S2dpBhB-kn"
   },
   "outputs": [
    {
     "name": "stdout",
     "output_type": "stream",
     "text": [
      "Enter elements of a list separated by space 0 5 27 6 13 28 100 45 10 79\n",
      "100\n",
      "100\n",
      "100\n",
      "27\n",
      "27\n",
      "27\n",
      "100\n",
      "100\n",
      "100\n",
      "5\n",
      "100\n",
      "100\n",
      "27\n",
      "27\n",
      "100\n",
      "100\n",
      "100\n",
      "100\n",
      "100\n",
      "27\n",
      "100\n",
      "5\n",
      "100\n",
      "27\n",
      "100\n",
      "100\n",
      "100\n"
     ]
    }
   ],
   "source": [
    "from random import uniform\n",
    "import random\n",
    "# write your python code here\n",
    "# you can take the above example as sample input for your program to test\n",
    "# it should work for any general input try not to hard code for only given input examples\n",
    "\n",
    "#video link for the topic - https://www.appliedaicourse.com/lecture/11/applied-machine-learning-online-course/2876/proportional-sampling/2/module-2-data-science-exploratory-data-analysis-and-data-visualization\n",
    "# you can free to change all these codes/structure\n",
    "\n",
    "input_string = input('Enter elements of a list separated by space ')\n",
    "user_list = input_string.split()\n",
    "    \n",
    "for i in range(len(user_list)):\n",
    "    # convert each item to int type\n",
    "    user_list[i] = int(user_list[i])\n",
    "    \n",
    "def normalize_list(user_list):\n",
    "    sum = 0\n",
    "    for i in user_list:\n",
    "        sum += i\n",
    "    \n",
    "    temp = []\n",
    "    for i in user_list:\n",
    "        c = i/sum\n",
    "        temp.append(c)\n",
    "    norm_list = temp\n",
    "    return norm_list\n",
    "    \n",
    "def pick_a_number_from_list(user_list):\n",
    "    # your code here for picking an element from with the probability propotional to its magnitude\n",
    "   \n",
    "    rand_val = random.uniform(0,1)\n",
    "    for i in range(len(user_list)):\n",
    "        if rand_val<=normalize_list(user_list)[i]:\n",
    "            print(user_list[i])\n",
    "            break\n",
    "\n",
    "    \n",
    "\n",
    "def sampling_based_on_magnitued():\n",
    "    for i in range(100):\n",
    "        number = pick_a_number_from_list(user_list)\n",
    "        if number != None:\n",
    "            print(number)\n",
    "        else:\n",
    "            continue\n",
    "\n",
    "sampling_based_on_magnitued()"
   ]
  },
  {
   "cell_type": "markdown",
   "metadata": {
    "colab_type": "text",
    "id": "D1xQy2WWB-kq"
   },
   "source": [
    "<h3> Q3: Replace the digits in the string with #</h3>\n",
    "\n",
    "consider a string that will have digits in that, we need to remove all the not digits and replace the digits with #\n",
    "<pre>\n",
    "Ex 1: A = 234                Output: ###\n",
    "Ex 2: A = a2b3c4             Output: ###\n",
    "Ex 3: A = abc                Output:   (empty string)\n",
    "Ex 5: A = #2a$#b%c%561#      Output: ####\n",
    "</pre>"
   ]
  },
  {
   "cell_type": "code",
   "execution_count": 21,
   "metadata": {
    "colab": {},
    "colab_type": "code",
    "id": "fxczi2jzB-kr"
   },
   "outputs": [
    {
     "name": "stdout",
     "output_type": "stream",
     "text": [
      "Enter the string:a2b3c4\n",
      "###\n"
     ]
    }
   ],
   "source": [
    "import re\n",
    "# write your python code here\n",
    "# you can take the above example as sample input for your program to test\n",
    "# it should work for any general input try not to hard code for only given input examples\n",
    "# try to complete this question using regular expressions\n",
    "# you can free to change all these codes/structure\n",
    "# String: it will be the input to your program\n",
    "\n",
    "import string\n",
    "String = input('Enter the string:')\n",
    "\n",
    "def replace_digits(String):\n",
    "    str_new = []\n",
    "    for i in String:\n",
    "        if i in string.digits:\n",
    "            str_new.append(\"#\")\n",
    "    res = print(\"\".join(str_new))\n",
    "    return res\n",
    "\n",
    "replace_digits(String)"
   ]
  },
  {
   "cell_type": "markdown",
   "metadata": {
    "colab_type": "text",
    "id": "j7h0Ywg7B-kw"
   },
   "source": [
    "<h3> Q4: Students marks dashboard</h3>\n",
    "\n",
    "consider the marks list of class students given two lists <br>\n",
    "Students = ['student1','student2','student3','student4','student5','student6','student7','student8','student9','student10'] <br>\n",
    "Marks = [45, 78, 12, 14, 48, 43, 45, 98, 22, 80] <br>\n",
    "from the above two lists the Student[0] got Marks[0],  Student[1] got Marks[1] and so on <br><br>\n",
    "your task is to print the name of students\n",
    "<strong>a. Who got top 5 ranks, in the descending order of marks</strong> <br>\n",
    "<strong>b. Who got least 5 ranks, in the increasing order of marks</strong><br>\n",
    "<strong>d. Who got marks between  &gt;25th percentile &lt;75th percentile, in the increasing order of marks</strong>\n",
    "\n",
    "<pre>\n",
    "Ex 1: \n",
    "Students=['student1','student2','student3','student4','student5','student6','student7','student8','student9','student10'] \n",
    "Marks = [45, 78, 12, 14, 48, 43, 47, 98, 22, 80]\n",
    "a. \n",
    "student8  98\n",
    "student10 80\n",
    "student2  78\n",
    "student5  48\n",
    "student7  47\n",
    "b.\n",
    "student3 12\n",
    "student4 14\n",
    "student9 22\n",
    "student6 43\n",
    "student1 45\n",
    "c.\n",
    "student9 22\n",
    "student6 43\n",
    "student1 45\n",
    "student7 47\n",
    "student5 48\n",
    "</pre>"
   ]
  },
  {
   "cell_type": "code",
   "execution_count": 9,
   "metadata": {
    "colab": {},
    "colab_type": "code",
    "id": "cxPJgItsB-kx"
   },
   "outputs": [
    {
     "name": "stdout",
     "output_type": "stream",
     "text": [
      "Top 5 Students are :['student8', 'student10', 'student2', 'student5', 'student7']\n",
      "\n",
      "Top least 5 Students are :['student3', 'student4', 'student9', 'student6', 'student1']\n",
      "\n",
      "Students who score  within 25 to 75 percentile  are :['student6', 'student1', 'student7', 'student5']\n"
     ]
    }
   ],
   "source": [
    "# write your python code here\n",
    "# you can take the above example as sample input for your program to test\n",
    "# it should work for any general input try not to hard code for only given input examples\n",
    "\n",
    "# you can free to change all these codes/structure\n",
    "# write your python code here\n",
    "# you can take the above example as sample input for your program to test\n",
    "# it should work for any general input try not to hard code for only given input examples\n",
    "\n",
    "# you can free to change all these codes/structure\n",
    "\n",
    "import math \n",
    "Students=['student1','student2','student3','student4','student5','student6','student7','student8','student9','student10'] \n",
    "Marks = [45, 78, 12, 14, 48, 43, 47, 98, 35, 80]\n",
    "\n",
    "def display_dash_board(stud_lst, marks):\n",
    "    \n",
    "    dic_lst = dict(zip(stud_lst, marks))\n",
    "    \n",
    "    # write code for computing top top 5 students\n",
    "    top_5_students = []\n",
    "    for key, value in sorted(dic_lst.items(), key=lambda item: item[1],reverse=True)[:5]:\n",
    "        top_5_students.append(key)\n",
    "        \n",
    "    # write code for computing top least 5 students        \n",
    "    least_5_students= []    \n",
    "    for key, value in sorted(dic_lst.items(), key=lambda item: item[1], reverse=False)[:5]:    \n",
    "        least_5_students.append(key)\n",
    "        \n",
    "    # write code for computing between >25th percentile <75th percentile, in the increasing order of marks\n",
    "    students_within_25_and_75 = []\n",
    "    for key,value in list(sorted(dic_lst.items(), key=lambda item: item[1]))[math.ceil(len(marks) / 4):math.floor(3 * len(marks) / 4)]:\n",
    "        students_within_25_and_75.append(key)    \n",
    "    \n",
    "    \n",
    "    return top_5_students, least_5_students, students_within_25_and_75\n",
    "\n",
    "top_5_students, least_5_students, students_within_25_and_75 = display_dash_board(stud_lst=Students, marks = Marks)\n",
    "\n",
    "print(f\"Top 5 Students are :{top_5_students}\\n\")\n",
    "print(f\"Top least 5 Students are :{least_5_students}\\n\")\n",
    "print(f\"Students who score  within 25 to 75 percentile  are :{students_within_25_and_75}\")\n"
   ]
  },
  {
   "cell_type": "markdown",
   "metadata": {
    "colab_type": "text",
    "id": "qha0OhQHB-k1"
   },
   "source": [
    "<h3> Q5: Find the closest points</h3>\n",
    "\n",
    "Consider you have given n data points in the form of list of tuples like S=[(x1,y1),(x2,y2),(x3,y3),(x4,y4),(x5,y5),..,(xn,yn)] and a point P=(p,q) <br> Your task is to find 5 closest points(based on cosine distance) in S from P\n",
    "<br>Cosine distance between two points (x,y) and (p,q) is defind as $cos^{-1}(\\frac{(x\\cdot p+y\\cdot q)}{\\sqrt(x^2+y^2)\\cdot\\sqrt(p^2+q^2)})$\n",
    "<pre>\n",
    "Ex:\n",
    "\n",
    "S= [(1,2),(3,4),(-1,1),(6,-7),(0, 6),(-5,-8),(-1,-1),(6,0),(1,-1)]\n",
    "P= (3,-4)\n",
    "\n",
    "<img src='https://i.imgur.com/vyZZQGu.png' width=400>\n",
    "\n",
    "Output:\n",
    "(6,-7)\n",
    "(1,-1)\n",
    "(6,0)\n",
    "(-5,-8)\n",
    "(-1,-1)\n",
    "</pre>\n",
    " Hint - If you write the formula correctly you'll get the distance between points (6,-7) and (3,-4) = 0.065"
   ]
  },
  {
   "cell_type": "code",
   "execution_count": 10,
   "metadata": {
    "colab": {},
    "colab_type": "code",
    "id": "wA5I1g-2B-k2"
   },
   "outputs": [
    {
     "name": "stdout",
     "output_type": "stream",
     "text": [
      "Top 5 nearest distance to query points are :[(6, -7), (1, -1), (6, 0), (-5, -8), (-1, -1)]\n",
      "\n"
     ]
    }
   ],
   "source": [
    "import math\n",
    "\n",
    "# write your python code here\n",
    "# you can take the above example as sample input for your program to test\n",
    "# it should work for any general input try not to hard code for only given input examples\n",
    "# you can free to change all these codes/structure\n",
    "\n",
    "\n",
    "# here S is list of tuples and P is a tuple ot len=2\n",
    "\n",
    "\n",
    "set_pt = [(1,2),(3,4),(-1,1),(6,-7),(0, 6),(-5,-8),(-1,-1),(6,0),(1,-1)]\n",
    "qu_pt = (3,-4)\n",
    "\n",
    "res = []\n",
    "\n",
    "def cal_cosdis(x_i,qu = qu_pt):\n",
    "    (x,y) =x_i\n",
    "    (p,q) = qu\n",
    "    \n",
    "    val = ((x*p+y*q)/(math.sqrt(x**2+y**2)*math.sqrt(p**2+q**2)))\n",
    "\n",
    "    invcos_val = math.acos(val)\n",
    "   \n",
    "    return invcos_val\n",
    "\n",
    "for i in set_pt:\n",
    "    dist = cal_cosdis(x_i=i)\n",
    "    res.append(dist)\n",
    "\n",
    "dic_lst = dict(zip(set_pt, res))\n",
    "least_5_distances = []\n",
    "for k,v in sorted (dic_lst.items(), key = lambda item: item[1], reverse = False)[:5]:\n",
    "    least_5_distances.append(k)\n",
    "print(f\"Top 5 nearest distance to query points are :{least_5_distances}\\n\")\n"
   ]
  },
  {
   "cell_type": "markdown",
   "metadata": {
    "colab_type": "text",
    "id": "-g11jeAiB-k5"
   },
   "source": [
    "<h3> Q6: Find Which line separates oranges and apples</h3>\n",
    "consider you have given two set of data points in the form of list of tuples like \n",
    "<pre>\n",
    "Red =[(R11,R12),(R21,R22),(R31,R32),(R41,R42),(R51,R52),..,(Rn1,Rn2)]\n",
    "Blue=[(B11,B12),(B21,B22),(B31,B32),(B41,B42),(B51,B52),..,(Bm1,Bm2)]\n",
    "</pre>\n",
    "and set of line equations(in the string formate, i.e list of strings)\n",
    "<pre>\n",
    "Lines = [a1x+b1y+c1,a2x+b2y+c2,a3x+b3y+c3,a4x+b4y+c4,..,K lines]\n",
    "Note: you need to string parsing here and get the coefficients of x,y and intercept\n",
    "</pre>\n",
    "your task is to for each line that is given print \"YES\"/\"NO\", you will print yes, if all the red points are one side of the line and blue points are other side of the line, otherwise no\n",
    "<pre>\n",
    "Ex:\n",
    "Red= [(1,1),(2,1),(4,2),(2,4), (-1,4)]\n",
    "Blue= [(-2,-1),(-1,-2),(-3,-2),(-3,-1),(1,-3)]\n",
    "Lines=[\"1x+1y+0\",\"1x-1y+0\",\"1x+0y-3\",\"0x+1y-0.5\"]\n",
    "<img src='https://i.imgur.com/mSnQW5K.png' width=400>\n",
    "\n",
    "Output:\n",
    "YES\n",
    "NO\n",
    "NO\n",
    "YES\n",
    "</pre>"
   ]
  },
  {
   "cell_type": "code",
   "execution_count": 11,
   "metadata": {
    "colab": {},
    "colab_type": "code",
    "id": "eRxExaTRB-k6"
   },
   "outputs": [
    {
     "name": "stdout",
     "output_type": "stream",
     "text": [
      "Yes\n",
      "No\n",
      "No\n",
      "Yes\n"
     ]
    }
   ],
   "source": [
    "import math\n",
    "# write your python code here\n",
    "# you can take the above example as sample input for your program to test\n",
    "# it should work for any general input try not to hard code for only given input strings\n",
    "\n",
    "\n",
    "# you can free to change all these codes/structure\n",
    "\n",
    "import math\n",
    "\n",
    "\n",
    "def i_am_the_one(red_pt,blue_pt,line):\n",
    "    \n",
    "    flag_red = -1\n",
    "    \n",
    "    if eval(line.replace('x', '*%s' % red_pt[0][0]).replace('y', '*%s' % red_pt[0][1])) > 0:\n",
    "        flag_red = 1\n",
    "        \n",
    "    for r_pt, b_pt in zip(red_pt,blue_pt):\n",
    "        \n",
    "        if flag_red == 1 and eval(line.replace('x', '*%s' % r_pt[0]).replace('y', '*%s' % r_pt[1])) <0:\n",
    "            return 'No'\n",
    "        \n",
    "        if flag_red == -1 and eval(line.replace('x', '*%s' % r_pt[0]).replace('y', '*%s' % r_pt[1])) >0:\n",
    "            return 'No'\n",
    "        \n",
    "        flag_blue = -1*flag_red\n",
    "    \n",
    "    \n",
    "        if flag_blue == 1 and eval(line.replace('x', '*%s' % b_pt[0]).replace('y', '*%s' % b_pt[1])) <0:\n",
    "            return 'No'\n",
    "        \n",
    "        if flag_blue == -1 and eval(line.replace('x', '*%s' % b_pt[0]).replace('y', '*%s' % b_pt[1])) >0:\n",
    "            return 'No'\n",
    "        \n",
    "    return \"Yes\"\n",
    "    \n",
    "\n",
    "   \n",
    "Red = [(1,1),(2,1),(4,2),(2,4), (-1,4)]\n",
    "Blue= [(-2,-1),(-1,-2),(-3,-2),(-3,-1),(1,-3)]\n",
    "Lines=[\"1x+1y+0\",\"1x-1y+0\",\"1x+0y-3\",\"0x+1y-0.5\"]\n",
    "\n",
    "for i in Lines:\n",
    "    yes_or_no = i_am_the_one(red_pt = Red, blue_pt = Blue, line = i)\n",
    "    print(yes_or_no) # the returned value\n",
    "    \n",
    "    "
   ]
  },
  {
   "cell_type": "markdown",
   "metadata": {
    "colab_type": "text",
    "id": "9OBpURbNB-k9"
   },
   "source": [
    "<h3> Q7: Filling the missing values in the specified formate</h3>\n",
    "You will be given a string with digits and '\\_'(missing value) symbols you have to replace the '\\_' symbols as explained \n",
    "<pre>\n",
    "Ex 1: _, _, _, 24 ==> 24/4, 24/4, 24/4, 24/4 i.e we. have distributed the 24 equally to all 4 places <br>\n",
    "Ex 2: 40, _, _, _, 60 ==> (60+40)/5,(60+40)/5,(60+40)/5,(60+40)/5,(60+40)/5 ==> 20, 20, 20, 20, 20 i.e. the sum of (60+40) is distributed qually to all 5 places<br>\n",
    "Ex 3: 80, _, _, _, _  ==> 80/5,80/5,80/5,80/5,80/5 ==> 16, 16, 16, 16, 16 i.e. the 80 is distributed qually to all 5 missing values that are right to it<br>\n",
    "Ex 4: _, _, 30, _, _, _, 50, _, _  \n",
    "==> we will fill the missing values from left to right \n",
    "    a. first we will distribute the 30 to left two missing values (10, 10, 10, _, _, _, 50, _, _)\n",
    "    b. now distribute the sum (10+50) missing values in between (10, 10, 12, 12, 12, 12, 12, _, _) \n",
    "    c. now we will distribute 12 to right side missing values (10, 10, 12, 12, 12, 12, 4, 4, 4)\n",
    "</pre>\n",
    "for a given string with comma seprate values, which will have both missing values numbers like ex: \"_, _, x, _, _, _\"\n",
    "you need fill the missing values\n",
    "\n",
    "Q: your program reads a string like ex: \"_, _, x, _, _, _\" and returns the filled sequence\n",
    "\n",
    "Ex: \n",
    "<pre>\n",
    "Input1: \"_,_,_,24\"\n",
    "Output1: 6,6,6,6\n",
    "\n",
    "Input2: \"40,_,_,_,60\"\n",
    "Output2: 20,20,20,20,20\n",
    "\n",
    "Input3: \"80,_,_,_,_\"\n",
    "Output3: 16,16,16,16,16\n",
    "\n",
    "Input4: \"_,_,30,_,_,_,50,_,_\"\n",
    "Output4: 10,10,12,12,12,12,4,4,4\n",
    "\n",
    "</pre>\n",
    "\n"
   ]
  },
  {
   "cell_type": "code",
   "execution_count": 13,
   "metadata": {
    "colab": {},
    "colab_type": "code",
    "id": "nZmpzHs_B-k-"
   },
   "outputs": [
    {
     "name": "stdout",
     "output_type": "stream",
     "text": [
      "[10, 10, 12, 12, 12, 12, 4, 4, 4]\n"
     ]
    }
   ],
   "source": [
    "# write your python code here\n",
    "# you can take the above example as sample input for your program to test\n",
    "# it should work for any general input try not to hard code for only given input strings\n",
    "#run your code in the function for each of the inputs mentioned above and make sure that you get the same results\n",
    "\n",
    "# you can free to change all these codes/structure\n",
    "def curve_smoothing(seq_str):\n",
    "    \n",
    "    str_lst = seq_str.split(',')\n",
    "    \n",
    "    for i in range(len(str_lst)):\n",
    "        \n",
    "        if str_lst[i].isdigit():\n",
    "            \n",
    "            for j in range(i+1):\n",
    "                str_lst[j] = int(str_lst[i])//(i+1)\n",
    "                \n",
    "            new_ind = i\n",
    "            new_val = int(str_lst[i])\n",
    "            break\n",
    "            \n",
    "    for k in range(new_ind+1, len(str_lst)):\n",
    "        \n",
    "        if str_lst[k].isdigit():\n",
    "            temp_val = (new_val+ int(str_lst[k]))//(k-new_ind+1)\n",
    "            \n",
    "            for l in range(new_ind, k+1):\n",
    "                str_lst[l] = temp_val\n",
    "            new_ind = k\n",
    "            new_val = int(str_lst[k])\n",
    "            \n",
    "    try:\n",
    "        for m in range(new_ind+1, len(str_lst)):\n",
    "            \n",
    "            if not(str_lst[m].isdigit()):\n",
    "                count_blnk = str_lst.count('_')\n",
    "                break\n",
    "            \n",
    "        temp_new_val = new_val//(count_blnk+1)\n",
    "        \n",
    "        for n in range(new_ind, len(str_lst)):\n",
    "            str_lst[n] = temp_new_val\n",
    "            \n",
    "    except:\n",
    "        pass\n",
    "    \n",
    "    return str_lst\n",
    "\n",
    "s =  \"_,_,30,_,_,_,50,_,_\"\n",
    "smoothed_values= curve_smoothing(seq_str = s)\n",
    "\n",
    "print(smoothed_values)"
   ]
  },
  {
   "cell_type": "markdown",
   "metadata": {
    "colab_type": "text",
    "id": "RBz4pzlfB-lB"
   },
   "source": [
    "<h3> Q8: Filling the missing values in the specified formate</h3>\n",
    "You will be given a list of lists, each sublist will be of length 2 i.e. [[x,y],[p,q],[l,m]..[r,s]]\n",
    "consider its like a martrix of n rows and two columns\n",
    "1. the first column F will contain only 5 uniques values (F1, F2, F3, F4, F5)\n",
    "2. the second column S will contain only 3 uniques values (S1, S2, S3)\n",
    "<pre>\n",
    "your task is to find\n",
    "a. Probability of P(F=F1|S==S1), P(F=F1|S==S2), P(F=F1|S==S3)\n",
    "b. Probability of P(F=F2|S==S1), P(F=F2|S==S2), P(F=F2|S==S3)\n",
    "c. Probability of P(F=F3|S==S1), P(F=F3|S==S2), P(F=F3|S==S3)\n",
    "d. Probability of P(F=F4|S==S1), P(F=F4|S==S2), P(F=F4|S==S3)\n",
    "e. Probability of P(F=F5|S==S1), P(F=F5|S==S2), P(F=F5|S==S3)\n",
    "</pre>\n",
    "Ex:\n",
    "\n",
    "<pre>\n",
    "[[F1,S1],[F2,S2],[F3,S3],[F1,S2],[F2,S3],[F3,S2],[F2,S1],[F4,S1],[F4,S3],[F5,S1]]\n",
    "\n",
    "a. P(F=F1|S==S1)=1/4, P(F=F1|S==S2)=1/3, P(F=F1|S==S3)=0/3\n",
    "b. P(F=F2|S==S1)=1/4, P(F=F2|S==S2)=1/3, P(F=F2|S==S3)=1/3\n",
    "c. P(F=F3|S==S1)=0/4, P(F=F3|S==S2)=1/3, P(F=F3|S==S3)=1/3\n",
    "d. P(F=F4|S==S1)=1/4, P(F=F4|S==S2)=0/3, P(F=F4|S==S3)=1/3\n",
    "e. P(F=F5|S==S1)=1/4, P(F=F5|S==S2)=0/3, P(F=F5|S==S3)=0/3\n",
    "</pre>\n",
    "\n",
    "\n"
   ]
  },
  {
   "cell_type": "code",
   "execution_count": 14,
   "metadata": {
    "colab": {},
    "colab_type": "code",
    "id": "e-1giz1MB-lC"
   },
   "outputs": [
    {
     "name": "stdout",
     "output_type": "stream",
     "text": [
      "Probability of P(F=F1|S==S1) 0.25\n"
     ]
    }
   ],
   "source": [
    "# write your python code here\n",
    "# you can take the above example as sample input for your program to test\n",
    "# it should work for any general input try not to hard code for only given input strings. Do not write 15 print statements.\n",
    "# you can use nested loops or dictionaries to write your code\n",
    "\n",
    "\n",
    "# you can free to change all these codes/structure\n",
    "\n",
    "def compute_conditional_probabilites(A):\n",
    "    lst_F = []\n",
    "    lst_S = []\n",
    "    \n",
    "    for i in range(len(A)):\n",
    "        res = A[i][0]+A[i][1]\n",
    "        lst_F.append(res)\n",
    "        lst_S.append(A[i][1])\n",
    "    return lst_F, lst_S\n",
    "    \n",
    "    # your code\n",
    "    # print the output as per the instructions\n",
    "\n",
    "A = [['F1','S1'],['F2','S2'],['F3','S3'],['F1','S2'],['F2','S3'],['F3','S2'],['F2','S1'],['F4','S1'],['F4','S3'],['F5','S1']]\n",
    "\n",
    "num, den = compute_conditional_probabilites(A)\n",
    "\n",
    "\n",
    "print('Probability of P(F=F1|S==S1)',(num.count('F1S1')/den.count('S1')))"
   ]
  },
  {
   "cell_type": "markdown",
   "metadata": {
    "colab_type": "text",
    "id": "n4HS87QmB-lF"
   },
   "source": [
    "<h3> Q9: Given two sentances S1, S2</h3>\n",
    "You will be given two sentances S1, S2 your task is to find \n",
    "<pre>\n",
    "a. Number of common words between S1, S2\n",
    "b. Words in S1 but not in S2\n",
    "c. Words in S2 but not in S1\n",
    "</pre>\n",
    "\n",
    "Ex: \n",
    "<pre>\n",
    "S1= \"the first column F will contain only 5 uniques values\"\n",
    "S2= \"the second column S will contain only 3 uniques values\"\n",
    "Output:\n",
    "a. 7\n",
    "b. ['first','F','5']\n",
    "c. ['second','S','3']\n",
    "</pre>"
   ]
  },
  {
   "cell_type": "code",
   "execution_count": null,
   "metadata": {
    "colab": {},
    "colab_type": "code",
    "id": "Ez7hlHK0B-lG"
   },
   "outputs": [],
   "source": [
    "# write your python code here\n",
    "# you can take the above example as sample input for your program to test\n",
    "# it should work for any general input try not to hard code for only given input strings\n",
    "\n",
    "# you can free to change all these codes/structure\n",
    "def string_features(S1, S2):\n",
    "    # your code\n",
    "    return a, b, c\n",
    "\n",
    "S1= \"the first column F will contain only 5 uniques values\"\n",
    "S2= \"the second column S will contain only 3 uniques values\"\n",
    "a,b,c = string_features(S1, S2)\n",
    "print(#the above values)"
   ]
  },
  {
   "cell_type": "markdown",
   "metadata": {},
   "source": [
    "#### if Order of the words  is not important "
   ]
  },
  {
   "cell_type": "code",
   "execution_count": 15,
   "metadata": {},
   "outputs": [
    {
     "name": "stdout",
     "output_type": "stream",
     "text": [
      "Number of common words between S1, S2: 7\n",
      "Words in S1 but not in S2 ['F', 'first', '5']\n",
      "Words in S2 but not in S1 ['3', 'S', 'second']\n"
     ]
    }
   ],
   "source": [
    "def string_features(S1, S2):\n",
    "    # your code\n",
    "    c_words = list(set(S1.split()) & set(S2.split()))\n",
    "    a = len(c_words)\n",
    "    b = list(set(S1.split()) - set(S2.split()))\n",
    "    \n",
    "    c = list(set(S2.split()) - set(S1.split()))\n",
    "    \n",
    "    return a, b, c\n",
    "\n",
    "\n",
    "S1= \"the first column F will contain only 5 uniques values\"\n",
    "S2= \"the second column S will contain only 3 uniques values\"\n",
    "\n",
    "a,b,c = string_features(S1, S2)\n",
    "\n",
    "print('Number of common words between S1, S2:',a)\n",
    "print(\"Words in S1 but not in S2\",b)\n",
    "print('Words in S2 but not in S1',c)"
   ]
  },
  {
   "cell_type": "markdown",
   "metadata": {},
   "source": [
    "##### if Order of the words  is  important \n"
   ]
  },
  {
   "cell_type": "code",
   "execution_count": 17,
   "metadata": {},
   "outputs": [
    {
     "name": "stdout",
     "output_type": "stream",
     "text": [
      "Number of common words between S1, S2: 7\n",
      "Words in S1 but not in S2 ['first', 'F', '5']\n",
      "Words in S2 but not in S1 ['second', 'S', '3']\n"
     ]
    }
   ],
   "source": [
    "def string_features(S1, S2):\n",
    "    # your code\n",
    "    c_words = list(set(S1.split()) & set(S2.split()))\n",
    "    a = len(c_words)\n",
    "    #b = list(set(S1.split()) - set(S2.split()))\n",
    "    b = [ i for i in S1.split() if i not in S2.split()]\n",
    "    #c = list(set(S2.split()) - set(S1.split()))\n",
    "    c = [ i for i in S2.split() if i not in S1.split()]\n",
    "    \n",
    "    return a, b, c\n",
    "\n",
    "\n",
    "S1= \"the first column F will contain only 5 uniques values\"\n",
    "S2= \"the second column S will contain only 3 uniques values\"\n",
    "\n",
    "a,b,c = string_features(S1, S2)\n",
    "\n",
    "print('Number of common words between S1, S2:',a)\n",
    "print(\"Words in S1 but not in S2\",b)\n",
    "print('Words in S2 but not in S1',c)"
   ]
  },
  {
   "cell_type": "markdown",
   "metadata": {
    "colab_type": "text",
    "id": "XefXVEjCB-lI"
   },
   "source": [
    "<h3> Q10: Given two sentances S1, S2</h3>\n",
    "You will be given a list of lists, each sublist will be of length 2 i.e. [[x,y],[p,q],[l,m]..[r,s]]\n",
    "consider its like a martrix of n rows and two columns\n",
    "\n",
    "a. the first column Y will contain interger values <br>\n",
    "b. the second column $Y_{score}$ will be having float values <br>\n",
    "Your task is to find the value of $f(Y,Y_{score}) = -1*\\frac{1}{n}\\Sigma_{for each Y,Y_{score} pair}(Ylog10(Y_{score})+(1-Y)log10(1-Y_{score}))$ here n is the number of rows in the matrix\n",
    "<pre>\n",
    "Ex:\n",
    "[[1, 0.4], [0, 0.5], [0, 0.9], [0, 0.3], [0, 0.6], [1, 0.1], [1, 0.9], [1, 0.8]]\n",
    "output:\n",
    "0.4243099\n",
    "</pre>\n",
    "$\\frac{-1}{8}\\cdot((1\\cdot log_{10}(0.4)+0\\cdot log_{10}(0.6))+(0\\cdot log_{10}(0.5)+1\\cdot log_{10}(0.5)) + ... + (1\\cdot log_{10}(0.8)+0\\cdot log_{10}(0.2)) )$"
   ]
  },
  {
   "cell_type": "code",
   "execution_count": 18,
   "metadata": {
    "colab": {},
    "colab_type": "code",
    "id": "N9zkagyNB-lJ"
   },
   "outputs": [
    {
     "name": "stdout",
     "output_type": "stream",
     "text": [
      "0.42430993457031635\n"
     ]
    }
   ],
   "source": [
    "# write your python code here\n",
    "# you can take the above example as sample input for your program to test\n",
    "# it should work for any general input try not to hard code for only given input strings\n",
    "\n",
    "\n",
    "# you can free to change all these codes/structure\n",
    "import math\n",
    "\n",
    "def compute_log_loss(A):\n",
    "    sum = 0\n",
    "    for i in range(len(A)):\n",
    "        cal_eqn = -1/len(A)*(A[i][0]*math.log10(A[i][1]) + (1-A[i][0])*math.log10(1-A[i][1]))\n",
    "        sum+=cal_eqn\n",
    "    \n",
    "    return sum\n",
    "\n",
    "A = [[1, 0.4], [0, 0.5], [0, 0.9], [0, 0.3], [0, 0.6], [1, 0.1], [1, 0.9], [1, 0.8]]\n",
    "loss = compute_log_loss(A)\n",
    "print(loss)"
   ]
  },
  {
   "cell_type": "code",
   "execution_count": null,
   "metadata": {},
   "outputs": [],
   "source": []
  }
 ],
 "metadata": {
  "colab": {
   "collapsed_sections": [],
   "name": "1.Python Assignment.ipynb",
   "provenance": []
  },
  "kernelspec": {
   "display_name": "Python 3 (ipykernel)",
   "language": "python",
   "name": "python3"
  },
  "language_info": {
   "codemirror_mode": {
    "name": "ipython",
    "version": 3
   },
   "file_extension": ".py",
   "mimetype": "text/x-python",
   "name": "python",
   "nbconvert_exporter": "python",
   "pygments_lexer": "ipython3",
   "version": "3.10.0"
  }
 },
 "nbformat": 4,
 "nbformat_minor": 1
}
