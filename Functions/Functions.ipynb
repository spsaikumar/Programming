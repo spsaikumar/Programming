{
 "cells": [
  {
   "cell_type": "raw",
   "metadata": {},
   "source": [
    "1. Write a function that inputs a number and prints the multiplication table of that number"
   ]
  },
  {
   "cell_type": "code",
   "execution_count": 5,
   "metadata": {},
   "outputs": [
    {
     "name": "stdout",
     "output_type": "stream",
     "text": [
      "Enter the multiplication number: 2\n",
      "Multiplication number of2:\n",
      "1  X  2  =  2\n",
      "2  X  2  =  4\n",
      "3  X  2  =  6\n",
      "4  X  2  =  8\n",
      "5  X  2  =  10\n",
      "6  X  2  =  12\n",
      "7  X  2  =  14\n",
      "8  X  2  =  16\n",
      "9  X  2  =  18\n",
      "10  X  2  =  20\n"
     ]
    }
   ],
   "source": [
    "n = int(input('Enter the multiplication number: '))\n",
    "\n",
    "print('Multiplication number of'+str(n)+':')\n",
    "for i in range(1,11):\n",
    "    print(i,' X ',n, ' = ',i*n)\n",
    "  "
   ]
  },
  {
   "cell_type": "code",
   "execution_count": null,
   "metadata": {},
   "outputs": [],
   "source": [
    "using Functions"
   ]
  },
  {
   "cell_type": "code",
   "execution_count": 87,
   "metadata": {},
   "outputs": [
    {
     "name": "stdout",
     "output_type": "stream",
     "text": [
      "Enter the multiplication number: 2\n",
      "Multiplication number of 2:\n",
      "1 X 2 = 2\n",
      "2 X 2 = 4\n",
      "3 X 2 = 6\n",
      "4 X 2 = 8\n",
      "5 X 2 = 10\n",
      "6 X 2 = 12\n",
      "7 X 2 = 14\n",
      "8 X 2 = 16\n",
      "9 X 2 = 18\n",
      "10 X 2 = 20\n"
     ]
    }
   ],
   "source": [
    "def mul(n):\n",
    "    for i in range(1,11):\n",
    "        print(i, 'X', n, '=', i*n)\n",
    "\n",
    "n = int(input('Enter the multiplication number: '))\n",
    "print('Multiplication number of '+str(n)+':')\n",
    "mul(n)\n"
   ]
  },
  {
   "cell_type": "raw",
   "metadata": {},
   "source": [
    "2. Write a program to print twin primes less than 1000. If two consecutive odd numbers are\n",
    "both prime then they are known as twin primes"
   ]
  },
  {
   "cell_type": "code",
   "execution_count": 80,
   "metadata": {
    "scrolled": true
   },
   "outputs": [
    {
     "name": "stdout",
     "output_type": "stream",
     "text": [
      "List of all Prime numbers: [3, 5, 7, 9, 11, 13, 15, 17, 19, 21, 23, 25, 27, 29, 31, 33, 35, 37, 39, 41, 43, 45, 47, 49, 51, 53, 55, 57, 59, 61, 63, 65, 67, 69, 71, 73, 75, 77, 79, 81, 83, 85, 87, 89, 91, 93, 95, 97, 99, 101, 103, 105, 107, 109, 111, 113, 115, 117, 119, 121, 123, 125, 127, 129, 131, 133, 135, 137, 139, 141, 143, 145, 147, 149, 151, 153, 155, 157, 159, 161, 163, 165, 167, 169, 171, 173, 175, 177, 179, 181, 183, 185, 187, 189, 191, 193, 195, 197, 199, 201, 203, 205, 207, 209, 211, 213, 215, 217, 219, 221, 223, 225, 227, 229, 231, 233, 235, 237, 239, 241, 243, 245, 247, 249, 251, 253, 255, 257, 259, 261, 263, 265, 267, 269, 271, 273, 275, 277, 279, 281, 283, 285, 287, 289, 291, 293, 295, 297, 299, 301, 303, 305, 307, 309, 311, 313, 315, 317, 319, 321, 323, 325, 327, 329, 331, 333, 335, 337, 339, 341, 343, 345, 347, 349, 351, 353, 355, 357, 359, 361, 363, 365, 367, 369, 371, 373, 375, 377, 379, 381, 383, 385, 387, 389, 391, 393, 395, 397, 399, 401, 403, 405, 407, 409, 411, 413, 415, 417, 419, 421, 423, 425, 427, 429, 431, 433, 435, 437, 439, 441, 443, 445, 447, 449, 451, 453, 455, 457, 459, 461, 463, 465, 467, 469, 471, 473, 475, 477, 479, 481, 483, 485, 487, 489, 491, 493, 495, 497, 499, 501, 503, 505, 507, 509, 511, 513, 515, 517, 519, 521, 523, 525, 527, 529, 531, 533, 535, 537, 539, 541, 543, 545, 547, 549, 551, 553, 555, 557, 559, 561, 563, 565, 567, 569, 571, 573, 575, 577, 579, 581, 583, 585, 587, 589, 591, 593, 595, 597, 599, 601, 603, 605, 607, 609, 611, 613, 615, 617, 619, 621, 623, 625, 627, 629, 631, 633, 635, 637, 639, 641, 643, 645, 647, 649, 651, 653, 655, 657, 659, 661, 663, 665, 667, 669, 671, 673, 675, 677, 679, 681, 683, 685, 687, 689, 691, 693, 695, 697, 699, 701, 703, 705, 707, 709, 711, 713, 715, 717, 719, 721, 723, 725, 727, 729, 731, 733, 735, 737, 739, 741, 743, 745, 747, 749, 751, 753, 755, 757, 759, 761, 763, 765, 767, 769, 771, 773, 775, 777, 779, 781, 783, 785, 787, 789, 791, 793, 795, 797, 799, 801, 803, 805, 807, 809, 811, 813, 815, 817, 819, 821, 823, 825, 827, 829, 831, 833, 835, 837, 839, 841, 843, 845, 847, 849, 851, 853, 855, 857, 859, 861, 863, 865, 867, 869, 871, 873, 875, 877, 879, 881, 883, 885, 887, 889, 891, 893, 895, 897, 899, 901, 903, 905, 907, 909, 911, 913, 915, 917, 919, 921, 923, 925, 927, 929, 931, 933, 935, 937, 939, 941, 943, 945, 947, 949, 951, 953, 955, 957, 959, 961, 963, 965, 967, 969, 971, 973, 975, 977, 979, 981, 983, 985, 987, 989, 991, 993, 995, 997, 999]\n",
      "499\n",
      "\n",
      "[[3, 5], [5, 7], [7, 9], [9, 11], [11, 13], [13, 15], [15, 17], [17, 19], [19, 21], [21, 23], [23, 25], [25, 27], [27, 29], [29, 31], [31, 33], [33, 35], [35, 37], [37, 39], [39, 41], [41, 43], [43, 45], [45, 47], [47, 49], [49, 51], [51, 53], [53, 55], [55, 57], [57, 59], [59, 61], [61, 63], [63, 65], [65, 67], [67, 69], [69, 71], [71, 73], [73, 75], [75, 77], [77, 79], [79, 81], [81, 83], [83, 85], [85, 87], [87, 89], [89, 91], [91, 93], [93, 95], [95, 97], [97, 99], [99, 101], [101, 103], [103, 105], [105, 107], [107, 109], [109, 111], [111, 113], [113, 115], [115, 117], [117, 119], [119, 121], [121, 123], [123, 125], [125, 127], [127, 129], [129, 131], [131, 133], [133, 135], [135, 137], [137, 139], [139, 141], [141, 143], [143, 145], [145, 147], [147, 149], [149, 151], [151, 153], [153, 155], [155, 157], [157, 159], [159, 161], [161, 163], [163, 165], [165, 167], [167, 169], [169, 171], [171, 173], [173, 175], [175, 177], [177, 179], [179, 181], [181, 183], [183, 185], [185, 187], [187, 189], [189, 191], [191, 193], [193, 195], [195, 197], [197, 199], [199, 201], [201, 203], [203, 205], [205, 207], [207, 209], [209, 211], [211, 213], [213, 215], [215, 217], [217, 219], [219, 221], [221, 223], [223, 225], [225, 227], [227, 229], [229, 231], [231, 233], [233, 235], [235, 237], [237, 239], [239, 241], [241, 243], [243, 245], [245, 247], [247, 249], [249, 251], [251, 253], [253, 255], [255, 257], [257, 259], [259, 261], [261, 263], [263, 265], [265, 267], [267, 269], [269, 271], [271, 273], [273, 275], [275, 277], [277, 279], [279, 281], [281, 283], [283, 285], [285, 287], [287, 289], [289, 291], [291, 293], [293, 295], [295, 297], [297, 299], [299, 301], [301, 303], [303, 305], [305, 307], [307, 309], [309, 311], [311, 313], [313, 315], [315, 317], [317, 319], [319, 321], [321, 323], [323, 325], [325, 327], [327, 329], [329, 331], [331, 333], [333, 335], [335, 337], [337, 339], [339, 341], [341, 343], [343, 345], [345, 347], [347, 349], [349, 351], [351, 353], [353, 355], [355, 357], [357, 359], [359, 361], [361, 363], [363, 365], [365, 367], [367, 369], [369, 371], [371, 373], [373, 375], [375, 377], [377, 379], [379, 381], [381, 383], [383, 385], [385, 387], [387, 389], [389, 391], [391, 393], [393, 395], [395, 397], [397, 399], [399, 401], [401, 403], [403, 405], [405, 407], [407, 409], [409, 411], [411, 413], [413, 415], [415, 417], [417, 419], [419, 421], [421, 423], [423, 425], [425, 427], [427, 429], [429, 431], [431, 433], [433, 435], [435, 437], [437, 439], [439, 441], [441, 443], [443, 445], [445, 447], [447, 449], [449, 451], [451, 453], [453, 455], [455, 457], [457, 459], [459, 461], [461, 463], [463, 465], [465, 467], [467, 469], [469, 471], [471, 473], [473, 475], [475, 477], [477, 479], [479, 481], [481, 483], [483, 485], [485, 487], [487, 489], [489, 491], [491, 493], [493, 495], [495, 497], [497, 499], [499, 501], [501, 503], [503, 505], [505, 507], [507, 509], [509, 511], [511, 513], [513, 515], [515, 517], [517, 519], [519, 521], [521, 523], [523, 525], [525, 527], [527, 529], [529, 531], [531, 533], [533, 535], [535, 537], [537, 539], [539, 541], [541, 543], [543, 545], [545, 547], [547, 549], [549, 551], [551, 553], [553, 555], [555, 557], [557, 559], [559, 561], [561, 563], [563, 565], [565, 567], [567, 569], [569, 571], [571, 573], [573, 575], [575, 577], [577, 579], [579, 581], [581, 583], [583, 585], [585, 587], [587, 589], [589, 591], [591, 593], [593, 595], [595, 597], [597, 599], [599, 601], [601, 603], [603, 605], [605, 607], [607, 609], [609, 611], [611, 613], [613, 615], [615, 617], [617, 619], [619, 621], [621, 623], [623, 625], [625, 627], [627, 629], [629, 631], [631, 633], [633, 635], [635, 637], [637, 639], [639, 641], [641, 643], [643, 645], [645, 647], [647, 649], [649, 651], [651, 653], [653, 655], [655, 657], [657, 659], [659, 661], [661, 663], [663, 665], [665, 667], [667, 669], [669, 671], [671, 673], [673, 675], [675, 677], [677, 679], [679, 681], [681, 683], [683, 685], [685, 687], [687, 689], [689, 691], [691, 693], [693, 695], [695, 697], [697, 699], [699, 701], [701, 703], [703, 705], [705, 707], [707, 709], [709, 711], [711, 713], [713, 715], [715, 717], [717, 719], [719, 721], [721, 723], [723, 725], [725, 727], [727, 729], [729, 731], [731, 733], [733, 735], [735, 737], [737, 739], [739, 741], [741, 743], [743, 745], [745, 747], [747, 749], [749, 751], [751, 753], [753, 755], [755, 757], [757, 759], [759, 761], [761, 763], [763, 765], [765, 767], [767, 769], [769, 771], [771, 773], [773, 775], [775, 777], [777, 779], [779, 781], [781, 783], [783, 785], [785, 787], [787, 789], [789, 791], [791, 793], [793, 795], [795, 797], [797, 799], [799, 801], [801, 803], [803, 805], [805, 807], [807, 809], [809, 811], [811, 813], [813, 815], [815, 817], [817, 819], [819, 821], [821, 823], [823, 825], [825, 827], [827, 829], [829, 831], [831, 833], [833, 835], [835, 837], [837, 839], [839, 841], [841, 843], [843, 845], [845, 847], [847, 849], [849, 851], [851, 853], [853, 855], [855, 857], [857, 859], [859, 861], [861, 863], [863, 865], [865, 867], [867, 869], [869, 871], [871, 873], [873, 875], [875, 877], [877, 879], [879, 881], [881, 883], [883, 885], [885, 887], [887, 889], [889, 891], [891, 893], [893, 895], [895, 897], [897, 899], [899, 901], [901, 903], [903, 905], [905, 907], [907, 909], [909, 911], [911, 913], [913, 915], [915, 917], [917, 919], [919, 921], [921, 923], [923, 925], [925, 927], [927, 929], [929, 931], [931, 933], [933, 935], [935, 937], [937, 939], [939, 941], [941, 943], [943, 945], [945, 947], [947, 949], [949, 951], [951, 953], [953, 955], [955, 957], [957, 959], [959, 961], [961, 963], [963, 965], [965, 967], [967, 969], [969, 971], [971, 973], [973, 975], [975, 977], [977, 979], [979, 981], [981, 983], [983, 985], [985, 987], [987, 989], [989, 991], [991, 993], [993, 995], [995, 997]]\n"
     ]
    }
   ],
   "source": [
    "#p_n = int(input('Enter the number: '))\n",
    "p_lst = []\n",
    "for i in range(2,1000):\n",
    "    for j in range(2,i):\n",
    "        if i%j == 0:\n",
    "            break\n",
    "        else:\n",
    "            p_lst.append(i)\n",
    "            break           \n",
    "print('List of all Prime numbers:',p_lst)\n",
    "\n",
    "tp_lst=[]\n",
    "print(len(p_lst))\n",
    "print()\n",
    "for i in range(len(p_lst)):\n",
    "     if i<len(p_lst)-2:\n",
    "        if p_lst[i+1] - p_lst[i] == 2:\n",
    "            tp_lst.append([p_lst[i],p_lst[i+1]])\n",
    "print(tp_lst)\n"
   ]
  },
  {
   "cell_type": "raw",
   "metadata": {},
   "source": [
    "using Functions"
   ]
  },
  {
   "cell_type": "code",
   "execution_count": 101,
   "metadata": {},
   "outputs": [
    {
     "name": "stdout",
     "output_type": "stream",
     "text": [
      "Enter the number: 1000\n",
      "Twin numbers: \n",
      "3 and 5\n",
      "5 and 7\n",
      "11 and 13\n",
      "17 and 19\n",
      "29 and 31\n",
      "41 and 43\n",
      "59 and 61\n",
      "71 and 73\n",
      "101 and 103\n",
      "107 and 109\n",
      "137 and 139\n",
      "149 and 151\n",
      "179 and 181\n",
      "191 and 193\n",
      "197 and 199\n",
      "227 and 229\n",
      "239 and 241\n",
      "269 and 271\n",
      "281 and 283\n",
      "311 and 313\n",
      "347 and 349\n",
      "419 and 421\n",
      "431 and 433\n",
      "461 and 463\n",
      "521 and 523\n",
      "569 and 571\n",
      "599 and 601\n",
      "617 and 619\n",
      "641 and 643\n",
      "659 and 661\n",
      "809 and 811\n",
      "821 and 823\n",
      "827 and 829\n",
      "857 and 859\n",
      "881 and 883\n"
     ]
    }
   ],
   "source": [
    "def prime(num):\n",
    "    for i in range(2,num):\n",
    "        if num%i==0:\n",
    "            return False\n",
    "    return True\n",
    "    \n",
    "def twin_prime(n):\n",
    "    for i in range(2,n):\n",
    "        j = 2+i\n",
    "        \n",
    "        if (prime(j) and prime(i)):\n",
    "            print(i, 'and', j)\n",
    "            \n",
    "n = int(input('Enter the number: '))\n",
    "print('Twin numbers: ')\n",
    "twin_prime(n)"
   ]
  },
  {
   "cell_type": "markdown",
   "metadata": {},
   "source": [
    "3. Write a program to find out the prime factors of a number. Example: prime factors of 56 -\n",
    "2, 2, 2, 7"
   ]
  },
  {
   "cell_type": "code",
   "execution_count": 110,
   "metadata": {},
   "outputs": [
    {
     "name": "stdout",
     "output_type": "stream",
     "text": [
      "Enter the number: 56\n",
      "Factors of a number: \n"
     ]
    },
    {
     "data": {
      "text/plain": [
       "[1, 2, 4, 7]"
      ]
     },
     "execution_count": 110,
     "metadata": {},
     "output_type": "execute_result"
    }
   ],
   "source": [
    "n = int(input('Enter the number: '))\n",
    "def fact_num(n):\n",
    "    lst=[]\n",
    "    for i in range(1,n):\n",
    "        if n%i==0:\n",
    "            lst.append(i)\n",
    "            n//=i\n",
    "    return lst\n",
    "print('Factors of a number: ')\n",
    "fact_num(n)"
   ]
  },
  {
   "cell_type": "markdown",
   "metadata": {},
   "source": [
    "4. Write a program to implement these formulae of permutations and combinations.\n",
    "Number of permutations of n objects taken r at a time: p(n, r) = n! / (n-r)!. Number of\n",
    "combinations of n objects taken r at a time is: c(n, r) = n! / (r!*(n-r)!) = p(n,r) / r!"
   ]
  },
  {
   "cell_type": "code",
   "execution_count": 128,
   "metadata": {},
   "outputs": [
    {
     "name": "stdout",
     "output_type": "stream",
     "text": [
      "Enter the total no. of objects: 5\n",
      "Enter the selecting no. of objects: 2\n",
      "permutations of n objects taken r at a time :  20.0\n",
      "combinations of n objects taken r at a time:  10.0\n"
     ]
    }
   ],
   "source": [
    "n = int(input('Enter the total no. of objects: '))\n",
    "r = int(input('Enter the selecting no. of objects: '))\n",
    "\n",
    "def factorial(a):\n",
    "    if a==1:\n",
    "        return 1\n",
    "    else:\n",
    "        return (a * factorial(a-1))\n",
    "\n",
    "def per(n,r):\n",
    "    return factorial(n)/factorial(n-r)\n",
    "def com(n,r):\n",
    "    return per(n,r)/factorial(r)\n",
    "\n",
    "print('permutations of n objects taken r at a time : ',per(n,r))\n",
    "print('combinations of n objects taken r at a time: ',com(n,r))\n",
    "\n"
   ]
  },
  {
   "cell_type": "markdown",
   "metadata": {},
   "source": [
    "5. Write a function that converts a decimal number to binary number"
   ]
  },
  {
   "cell_type": "code",
   "execution_count": 130,
   "metadata": {},
   "outputs": [
    {
     "name": "stdout",
     "output_type": "stream",
     "text": [
      "Enter the decimal number: 10\n",
      "Binary number of 10 is  0b1010\n"
     ]
    }
   ],
   "source": [
    "dec_n = int(input('Enter the decimal number: '))\n",
    "print('Binary number of '+str(dec_n)+' is ',bin(dec_n))\n"
   ]
  },
  {
   "cell_type": "raw",
   "metadata": {},
   "source": [
    "using Functions"
   ]
  },
  {
   "cell_type": "code",
   "execution_count": 131,
   "metadata": {},
   "outputs": [
    {
     "name": "stdout",
     "output_type": "stream",
     "text": [
      "Enter the decimal number: 10\n",
      "Binary number of 10 is  0b1010\n"
     ]
    }
   ],
   "source": [
    "dec_n = int(input('Enter the decimal number: '))\n",
    "def bin_n(n):\n",
    "    return bin(n)\n",
    "print('Binary number of '+str(dec_n)+' is ',bin(dec_n))"
   ]
  },
  {
   "cell_type": "raw",
   "metadata": {},
   "source": [
    "6. Write a function cubesum() that accepts an integer and returns the sum of the cubes of individual digits of that number. Use this function to make functions PrintArmstrong() and isArmstrong() to print Armstrong numbers and to find whether is an Armstrong number"
   ]
  },
  {
   "cell_type": "code",
   "execution_count": 150,
   "metadata": {
    "scrolled": true
   },
   "outputs": [
    {
     "name": "stdout",
     "output_type": "stream",
     "text": [
      "Enter the no.: 153\n",
      "Enter the starting range of Armstrong number: 100\n",
      "Enter the Ending range of Armstrong number: 500\n",
      "153\n",
      "Given number 153 is Armstrong Number\n",
      "None\n",
      "[153, 370, 371, 407]\n"
     ]
    }
   ],
   "source": [
    "n = int(input('Enter the no.: '))\n",
    "n1 = int(input('Enter the starting range of Armstrong number: '))\n",
    "n2 = int(input('Enter the Ending range of Armstrong number: '))\n",
    "\n",
    "def cubesum(n):\n",
    "    cube=0\n",
    "    while n!=0:\n",
    "        digit = n%10\n",
    "        cube += digit**3\n",
    "        n//=10\n",
    "    return cube\n",
    "\n",
    "def isArmstrong(n):\n",
    "    if n ==cubesum(n):\n",
    "        print('Given number '+str(n)+ ' is Armstrong Number')\n",
    "    else:\n",
    "        print('Given number '+str(n)+ ' is not an Armstrong Number')\n",
    "\n",
    "def PrintArmstrong(n1,n2):\n",
    "    Arm_lst = []\n",
    "    for i in range(n1,n2+1):\n",
    "        if i ==cubesum(i):\n",
    "            Arm_lst.append(i)\n",
    "    return Arm_lst\n",
    "\n",
    "\n",
    "print(cubesum(n))\n",
    "print(isArmstrong(n))\n",
    "print(PrintArmstrong(n1,n2))\n",
    "\n"
   ]
  },
  {
   "cell_type": "markdown",
   "metadata": {},
   "source": [
    "7. Write a function prodDigits() that inputs a number and returns the product of digits of that number."
   ]
  },
  {
   "cell_type": "code",
   "execution_count": 153,
   "metadata": {},
   "outputs": [
    {
     "name": "stdout",
     "output_type": "stream",
     "text": [
      "Enter the number: 153\n",
      "Product of digits of number 153 is  15\n"
     ]
    }
   ],
   "source": [
    "n = int(input('Enter the number: '))\n",
    "def prodDigits(n):\n",
    "    prod_digits =1\n",
    "    while n!=0:\n",
    "        digits= n%10\n",
    "        prod_digits*=digits\n",
    "        n//=10\n",
    "    return prod_digits\n",
    "print('Product of digits of number '+str(n)+' is ',prodDigits(n))"
   ]
  },
  {
   "cell_type": "markdown",
   "metadata": {},
   "source": [
    "8. If all digits of a number n are multiplied by each other repeating with the product, the one digit number obtained at last is called the multiplicative digital root of n. The number of times digits need to be multiplied to reach one digit is called the multiplicative persistance of n.\n",
    "\n",
    "Using the function prodDigits() of previous exercise write functions MDR() and MPersistence() that input a number and return its multiplicative digital root and multiplicative persistence respectively"
   ]
  },
  {
   "cell_type": "code",
   "execution_count": 189,
   "metadata": {},
   "outputs": [
    {
     "name": "stdout",
     "output_type": "stream",
     "text": [
      "Enter the number: 86\n",
      "Multiplicative digital root of a given number 86 is 6\n",
      "Multiplicative Persistence of a given number 86 is  3\n"
     ]
    }
   ],
   "source": [
    "n = int(input('Enter the number: '))\n",
    "\n",
    "def MDR(n):\n",
    "    while n>9:\n",
    "        x=prodDigits(n)\n",
    "        n =x\n",
    "    return n\n",
    "\n",
    "def MPersistence(n):\n",
    "    count =0\n",
    "    while n>9:\n",
    "        count+=1\n",
    "        x=prodDigits(n)\n",
    "        n =x\n",
    "    return count\n",
    "\n",
    "print('Multiplicative digital root of a given number '+str(n)+' is',MDR(n))\n",
    "print('Multiplicative Persistence of a given number '+str(n)+' is ',MPersistence(n))"
   ]
  },
  {
   "cell_type": "raw",
   "metadata": {},
   "source": [
    "9. Write a function sumPdivisors() that finds the sum of proper divisors of a number. Proper divisors of a number are those numbers by which the number is divisible, except the\n",
    "number itself. For example proper divisors of 36 are 1, 2, 3, 4, 6, 9, 18\n",
    "    "
   ]
  },
  {
   "cell_type": "code",
   "execution_count": 205,
   "metadata": {},
   "outputs": [
    {
     "name": "stdout",
     "output_type": "stream",
     "text": [
      "Enter the number: 284\n",
      "List of all Proper divisors of a given number 284 is  [1, 2, 4, 71, 142]\n",
      "Proper divisors of a given number 284 is  220\n"
     ]
    }
   ],
   "source": [
    "n = int(input('Enter the number: '))\n",
    "def sumPdivisors(n):\n",
    "    sum =0\n",
    "    div_lst=[]\n",
    "    for i in range(1,n):\n",
    "        if n%i==0:\n",
    "            sum+=i\n",
    "            div_lst.append(i)\n",
    "    print('List of all Proper divisors of a given number '+str(n)+' is ',div_lst)\n",
    "    return sum\n",
    "print('Proper divisors of a given number '+str(n)+' is ',sumPdivisors(n))\n",
    "    "
   ]
  },
  {
   "cell_type": "raw",
   "metadata": {},
   "source": [
    "10. A number is called perfect if the sum of proper divisors of that number is equal to the number. For example 28 is perfect number, since 1+2+4+7+14=28. Write a program to print all the perfect numbers in a given range"
   ]
  },
  {
   "cell_type": "code",
   "execution_count": 203,
   "metadata": {},
   "outputs": [
    {
     "name": "stdout",
     "output_type": "stream",
     "text": [
      "Enter the range of a Starting number: 1\n",
      "Enter the range of a Ending number: 500\n",
      "The Perfect numbers in a given range(1,500) is :  [6, 28, 496]\n"
     ]
    }
   ],
   "source": [
    "n1 = int(input('Enter the range of a Starting number: '))\n",
    "n2 = int(input('Enter the range of a Ending number: '))\n",
    "def sumPdivisors(n):\n",
    "    sum =0\n",
    "    div_lst=[]\n",
    "    for i in range(1,n):\n",
    "        if n%i==0:\n",
    "            sum+=i\n",
    "            div_lst.append(i)\n",
    "    return sum\n",
    "\n",
    "def Perfect_div(n1,n2):\n",
    "    per_div_lst = []\n",
    "    for i in range(n1,n2): \n",
    "        if i == sumPdivisors(i):\n",
    "            per_div_lst.append(i)\n",
    "    return per_div_lst\n",
    "print('The Perfect numbers in a given range('+str(n1)+','+str(n2)+') is : ',Perfect_div(n1,n2))\n",
    "            "
   ]
  },
  {
   "cell_type": "raw",
   "metadata": {},
   "source": [
    "11. Two different numbers are called amicable numbers if the sum of the proper divisors of each is equal to the other number. For example 220 and 284 are amicable numbers.\n",
    "Write a function to print pairs of amicable numbers in a range"
   ]
  },
  {
   "cell_type": "code",
   "execution_count": 207,
   "metadata": {},
   "outputs": [
    {
     "name": "stdout",
     "output_type": "stream",
     "text": [
      "Enter the first number: 220\n",
      "Enter the second number: 221\n",
      "Given numbers 220 and 221 are not Amicable Numbers\n"
     ]
    }
   ],
   "source": [
    "x = int(input('Enter the first number: '))\n",
    "y = int(input('Enter the second number: '))\n",
    "def sumPdivisors(n):\n",
    "    sum =0\n",
    "    div_lst=[]\n",
    "    for i in range(1,n):\n",
    "        if n%i==0:\n",
    "            sum+=i\n",
    "            div_lst.append(i)\n",
    "    return sum\n",
    "for \n",
    "if sumPdivisors(x)==y and sumPdivisors(y)==x:\n",
    "    print('Given numbers '+str(x)+' and '+str(y)+' are Amicable Numbers')\n",
    "else:\n",
    "    print('Given numbers '+str(x)+' and '+str(y)+' are not Amicable Numbers')"
   ]
  },
  {
   "cell_type": "code",
   "execution_count": 214,
   "metadata": {},
   "outputs": [
    {
     "name": "stdout",
     "output_type": "stream",
     "text": [
      "Enter the first number: 1\n",
      "Enter the second number: 500\n",
      "220 284\n",
      "284 220\n",
      "Pairs of amicable numbers in a range of 1 and 500 are:  [[220, 284], [284, 220]]\n"
     ]
    }
   ],
   "source": [
    "x = int(input('Enter the first number: '))\n",
    "y = int(input('Enter the second number: '))\n",
    "def sumPdivisors(n):\n",
    "    sum =0\n",
    "    div_lst=[]\n",
    "    for i in range(1,n):\n",
    "        if n%i==0:\n",
    "            sum+=i\n",
    "            div_lst.append(i)\n",
    "    return sum\n",
    "\n",
    "tot_amic_lst=[]\n",
    "\n",
    "for i in range(x,y+1):\n",
    "    for j in range(x,y+1):\n",
    "        if j==i:\n",
    "            continue\n",
    "        else:\n",
    "            if sumPdivisors(i)==j and sumPdivisors(j)==i:\n",
    "                amic_lst =[]\n",
    "                print(i,j)\n",
    "                amic_lst.append(i)\n",
    "                amic_lst.append(j)\n",
    "                tot_amic_lst.extend([amic_lst])\n",
    "\n",
    "print('Pairs of amicable numbers in a given range of '+str(n1)+' and '+str(n2)+' are: ',tot_amic_lst)\n",
    "#s = set(zip(tot_amic_lst))\n",
    "#print(s)\n",
    "            \n",
    "                \n",
    "            "
   ]
  },
  {
   "cell_type": "raw",
   "metadata": {},
   "source": [
    "12. Write a program which can filter odd numbers in a list by using filter function"
   ]
  },
  {
   "cell_type": "code",
   "execution_count": 215,
   "metadata": {},
   "outputs": [
    {
     "name": "stdout",
     "output_type": "stream",
     "text": [
      "List of Odd numbers of a given list:  [1, 3, 5, 7, 9, 11]\n"
     ]
    }
   ],
   "source": [
    "num_lst = [1,2,3,4,5,6,7,8,9,10,11,12]\n",
    "odd_num = list(filter(lambda x: x%2!=0, num_lst))\n",
    "print('List of Odd numbers of a given list: ',odd_num)"
   ]
  },
  {
   "cell_type": "raw",
   "metadata": {},
   "source": [
    "13. Write a program which can map() to make a list whose elements are cube of elements in a given list"
   ]
  },
  {
   "cell_type": "code",
   "execution_count": 218,
   "metadata": {},
   "outputs": [
    {
     "name": "stdout",
     "output_type": "stream",
     "text": [
      "List of Cube of elements of a given list:  [1, 8, 27, 64, 125, 216, 343, 512, 729, 1000, 1331, 1728]\n"
     ]
    }
   ],
   "source": [
    "num_lst = [1,2,3,4,5,6,7,8,9,10,11,12]\n",
    "cube_num = list(map(lambda x: x**3, num_lst))\n",
    "print('List of Cube of elements of a given list: ',cube_num)"
   ]
  },
  {
   "cell_type": "raw",
   "metadata": {},
   "source": [
    "14. Write a program which can map() and filter() to make a list whose elements are cube of even number in a given list"
   ]
  },
  {
   "cell_type": "code",
   "execution_count": 220,
   "metadata": {},
   "outputs": [
    {
     "name": "stdout",
     "output_type": "stream",
     "text": [
      "List of Cube of Even number elements of a given list:  [8, 64, 216, 512, 1000, 1728]\n"
     ]
    }
   ],
   "source": [
    "num_lst = [1,2,3,4,5,6,7,8,9,10,11,12]\n",
    "Even_num = list(filter(lambda x: x%2==0, num_lst))\n",
    "cube_Even_num = list(map(lambda x: x**3,Even_num))\n",
    "print('List of Cube of Even number elements of a given list: ',cube_Even_num)"
   ]
  },
  {
   "cell_type": "code",
   "execution_count": null,
   "metadata": {},
   "outputs": [],
   "source": []
  }
 ],
 "metadata": {
  "kernelspec": {
   "display_name": "Python 3",
   "language": "python",
   "name": "python3"
  },
  "language_info": {
   "codemirror_mode": {
    "name": "ipython",
    "version": 3
   },
   "file_extension": ".py",
   "mimetype": "text/x-python",
   "name": "python",
   "nbconvert_exporter": "python",
   "pygments_lexer": "ipython3",
   "version": "3.6.5"
  }
 },
 "nbformat": 4,
 "nbformat_minor": 2
}
